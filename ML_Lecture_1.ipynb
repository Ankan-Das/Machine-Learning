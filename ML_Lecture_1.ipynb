{
  "nbformat": 4,
  "nbformat_minor": 0,
  "metadata": {
    "colab": {
      "name": "Copy of ML_Lecture_1.ipynb",
      "provenance": [],
      "collapsed_sections": [],
      "include_colab_link": true
    },
    "kernelspec": {
      "name": "python3",
      "display_name": "Python 3"
    },
    "language_info": {
      "name": "python"
    }
  },
  "cells": [
    {
      "cell_type": "markdown",
      "metadata": {
        "id": "view-in-github",
        "colab_type": "text"
      },
      "source": [
        "<a href=\"https://colab.research.google.com/github/Ankan-Das/Machine-Learning/blob/main/ML_Lecture_1.ipynb\" target=\"_parent\"><img src=\"https://colab.research.google.com/assets/colab-badge.svg\" alt=\"Open In Colab\"/></a>"
      ]
    },
    {
      "cell_type": "code",
      "metadata": {
        "id": "uUPx2Wp6yFU8"
      },
      "source": [
        "import pandas as pd\n",
        "import numpy as np\n",
        "import matplotlib.pyplot as plt"
      ],
      "execution_count": 1,
      "outputs": []
    },
    {
      "cell_type": "markdown",
      "metadata": {
        "id": "kfLijXkc1U52"
      },
      "source": [
        "Read the Student Performance dataset into a Pandas Dataframe"
      ]
    },
    {
      "cell_type": "code",
      "metadata": {
        "id": "Tb2IK5Oh1PfY"
      },
      "source": [
        "data = pd.read_csv(\"https://raw.githubusercontent.com/tripathiaakash/ML_Course/main/StudentsPerformance.csv\")"
      ],
      "execution_count": 2,
      "outputs": []
    },
    {
      "cell_type": "markdown",
      "metadata": {
        "id": "D8EtHK9n1i7p"
      },
      "source": [
        "See the dataset schema and some values"
      ]
    },
    {
      "cell_type": "code",
      "metadata": {
        "colab": {
          "base_uri": "https://localhost:8080/",
          "height": 359
        },
        "id": "0SzBiQP_1TNT",
        "outputId": "05865510-3737-4b14-9a76-9fbec42bbbf8"
      },
      "source": [
        "data.head(10)"
      ],
      "execution_count": 3,
      "outputs": [
        {
          "output_type": "execute_result",
          "data": {
            "text/html": [
              "<div>\n",
              "<style scoped>\n",
              "    .dataframe tbody tr th:only-of-type {\n",
              "        vertical-align: middle;\n",
              "    }\n",
              "\n",
              "    .dataframe tbody tr th {\n",
              "        vertical-align: top;\n",
              "    }\n",
              "\n",
              "    .dataframe thead th {\n",
              "        text-align: right;\n",
              "    }\n",
              "</style>\n",
              "<table border=\"1\" class=\"dataframe\">\n",
              "  <thead>\n",
              "    <tr style=\"text-align: right;\">\n",
              "      <th></th>\n",
              "      <th>gender</th>\n",
              "      <th>race/ethnicity</th>\n",
              "      <th>parental level of education</th>\n",
              "      <th>lunch</th>\n",
              "      <th>test preparation course</th>\n",
              "      <th>math score</th>\n",
              "      <th>reading score</th>\n",
              "      <th>writing score</th>\n",
              "    </tr>\n",
              "  </thead>\n",
              "  <tbody>\n",
              "    <tr>\n",
              "      <th>0</th>\n",
              "      <td>female</td>\n",
              "      <td>group B</td>\n",
              "      <td>bachelor's degree</td>\n",
              "      <td>standard</td>\n",
              "      <td>none</td>\n",
              "      <td>72</td>\n",
              "      <td>72</td>\n",
              "      <td>74</td>\n",
              "    </tr>\n",
              "    <tr>\n",
              "      <th>1</th>\n",
              "      <td>female</td>\n",
              "      <td>group C</td>\n",
              "      <td>some college</td>\n",
              "      <td>standard</td>\n",
              "      <td>completed</td>\n",
              "      <td>69</td>\n",
              "      <td>90</td>\n",
              "      <td>88</td>\n",
              "    </tr>\n",
              "    <tr>\n",
              "      <th>2</th>\n",
              "      <td>female</td>\n",
              "      <td>group B</td>\n",
              "      <td>master's degree</td>\n",
              "      <td>standard</td>\n",
              "      <td>none</td>\n",
              "      <td>90</td>\n",
              "      <td>95</td>\n",
              "      <td>93</td>\n",
              "    </tr>\n",
              "    <tr>\n",
              "      <th>3</th>\n",
              "      <td>male</td>\n",
              "      <td>group A</td>\n",
              "      <td>associate's degree</td>\n",
              "      <td>free/reduced</td>\n",
              "      <td>none</td>\n",
              "      <td>47</td>\n",
              "      <td>57</td>\n",
              "      <td>44</td>\n",
              "    </tr>\n",
              "    <tr>\n",
              "      <th>4</th>\n",
              "      <td>male</td>\n",
              "      <td>group C</td>\n",
              "      <td>some college</td>\n",
              "      <td>standard</td>\n",
              "      <td>none</td>\n",
              "      <td>76</td>\n",
              "      <td>78</td>\n",
              "      <td>75</td>\n",
              "    </tr>\n",
              "    <tr>\n",
              "      <th>5</th>\n",
              "      <td>female</td>\n",
              "      <td>group B</td>\n",
              "      <td>associate's degree</td>\n",
              "      <td>standard</td>\n",
              "      <td>none</td>\n",
              "      <td>71</td>\n",
              "      <td>83</td>\n",
              "      <td>78</td>\n",
              "    </tr>\n",
              "    <tr>\n",
              "      <th>6</th>\n",
              "      <td>female</td>\n",
              "      <td>group B</td>\n",
              "      <td>some college</td>\n",
              "      <td>standard</td>\n",
              "      <td>completed</td>\n",
              "      <td>88</td>\n",
              "      <td>95</td>\n",
              "      <td>92</td>\n",
              "    </tr>\n",
              "    <tr>\n",
              "      <th>7</th>\n",
              "      <td>male</td>\n",
              "      <td>group B</td>\n",
              "      <td>some college</td>\n",
              "      <td>free/reduced</td>\n",
              "      <td>none</td>\n",
              "      <td>40</td>\n",
              "      <td>43</td>\n",
              "      <td>39</td>\n",
              "    </tr>\n",
              "    <tr>\n",
              "      <th>8</th>\n",
              "      <td>male</td>\n",
              "      <td>group D</td>\n",
              "      <td>high school</td>\n",
              "      <td>free/reduced</td>\n",
              "      <td>completed</td>\n",
              "      <td>64</td>\n",
              "      <td>64</td>\n",
              "      <td>67</td>\n",
              "    </tr>\n",
              "    <tr>\n",
              "      <th>9</th>\n",
              "      <td>female</td>\n",
              "      <td>group B</td>\n",
              "      <td>high school</td>\n",
              "      <td>free/reduced</td>\n",
              "      <td>none</td>\n",
              "      <td>38</td>\n",
              "      <td>60</td>\n",
              "      <td>50</td>\n",
              "    </tr>\n",
              "  </tbody>\n",
              "</table>\n",
              "</div>"
            ],
            "text/plain": [
              "   gender race/ethnicity  ... reading score writing score\n",
              "0  female        group B  ...            72            74\n",
              "1  female        group C  ...            90            88\n",
              "2  female        group B  ...            95            93\n",
              "3    male        group A  ...            57            44\n",
              "4    male        group C  ...            78            75\n",
              "5  female        group B  ...            83            78\n",
              "6  female        group B  ...            95            92\n",
              "7    male        group B  ...            43            39\n",
              "8    male        group D  ...            64            67\n",
              "9  female        group B  ...            60            50\n",
              "\n",
              "[10 rows x 8 columns]"
            ]
          },
          "metadata": {
            "tags": []
          },
          "execution_count": 3
        }
      ]
    },
    {
      "cell_type": "markdown",
      "metadata": {
        "id": "CA8xIXqa1sdO"
      },
      "source": [
        "Identify the variable types"
      ]
    },
    {
      "cell_type": "code",
      "metadata": {
        "id": "xOTlp1UyQUIs",
        "colab": {
          "base_uri": "https://localhost:8080/"
        },
        "outputId": "e8b5a7fd-a34d-4518-bfa0-c007afd56f71"
      },
      "source": [
        "data.shape"
      ],
      "execution_count": 4,
      "outputs": [
        {
          "output_type": "execute_result",
          "data": {
            "text/plain": [
              "(1000, 8)"
            ]
          },
          "metadata": {
            "tags": []
          },
          "execution_count": 4
        }
      ]
    },
    {
      "cell_type": "code",
      "metadata": {
        "colab": {
          "base_uri": "https://localhost:8080/"
        },
        "id": "dMqC7qkD1pIT",
        "outputId": "05cc36d5-72af-4825-895b-f07760286ec2"
      },
      "source": [
        "data.dtypes"
      ],
      "execution_count": 5,
      "outputs": [
        {
          "output_type": "execute_result",
          "data": {
            "text/plain": [
              "gender                         object\n",
              "race/ethnicity                 object\n",
              "parental level of education    object\n",
              "lunch                          object\n",
              "test preparation course        object\n",
              "math score                      int64\n",
              "reading score                   int64\n",
              "writing score                   int64\n",
              "dtype: object"
            ]
          },
          "metadata": {
            "tags": []
          },
          "execution_count": 5
        }
      ]
    },
    {
      "cell_type": "markdown",
      "metadata": {
        "id": "ywkkHT8m15RV"
      },
      "source": [
        "**Univariate Analysis - Graphical**\n",
        "\n"
      ]
    },
    {
      "cell_type": "markdown",
      "metadata": {
        "id": "ivLmm8hR2buc"
      },
      "source": [
        "First we will take all the continuous variables and plot their histograms and boxplots to get a sense of the variable distributions and skewness in the data"
      ]
    },
    {
      "cell_type": "code",
      "metadata": {
        "id": "-akEiCWGlUMo"
      },
      "source": [
        "X = [1,2,3,4,4,4,5,5,5,5,6,6,6,6,6,6]"
      ],
      "execution_count": 6,
      "outputs": []
    },
    {
      "cell_type": "code",
      "metadata": {
        "id": "1HdleJHrlZlI",
        "colab": {
          "base_uri": "https://localhost:8080/",
          "height": 316
        },
        "outputId": "8a531776-924a-41e9-8459-16b1bc18614b"
      },
      "source": [
        "plt.hist(X)"
      ],
      "execution_count": 7,
      "outputs": [
        {
          "output_type": "execute_result",
          "data": {
            "text/plain": [
              "(array([1., 0., 1., 0., 1., 0., 3., 0., 4., 6.]),\n",
              " array([1. , 1.5, 2. , 2.5, 3. , 3.5, 4. , 4.5, 5. , 5.5, 6. ]),\n",
              " <a list of 10 Patch objects>)"
            ]
          },
          "metadata": {
            "tags": []
          },
          "execution_count": 7
        },
        {
          "output_type": "display_data",
          "data": {
            "image/png": "[encoded data removed]",
            "text/plain": [
              "<Figure size 432x288 with 1 Axes>"
            ]
          },
          "metadata": {
            "tags": [],
            "needs_background": "light"
          }
        }
      ]
    },
    {
      "cell_type": "code",
      "metadata": {
        "colab": {
          "base_uri": "https://localhost:8080/",
          "height": 316
        },
        "id": "3zJS1zBH14nD",
        "outputId": "e5f1e982-e350-436e-a9c3-a47997da8021"
      },
      "source": [
        "plt.hist(data['math score'])"
      ],
      "execution_count": 8,
      "outputs": [
        {
          "output_type": "execute_result",
          "data": {
            "text/plain": [
              "(array([  2.,   2.,  10.,  26.,  95., 188., 268., 216., 135.,  58.]),\n",
              " array([  0.,  10.,  20.,  30.,  40.,  50.,  60.,  70.,  80.,  90., 100.]),\n",
              " <a list of 10 Patch objects>)"
            ]
          },
          "metadata": {
            "tags": []
          },
          "execution_count": 8
        },
        {
          "output_type": "display_data",
          "data": {
            "image/png": "[encoded data removed]",
            "text/plain": [
              "<Figure size 432x288 with 1 Axes>"
            ]
          },
          "metadata": {
            "tags": [],
            "needs_background": "light"
          }
        }
      ]
    },
    {
      "cell_type": "markdown",
      "metadata": {
        "id": "ioAc3z-W269n"
      },
      "source": [
        "**Exercise:  write the code for plotting histograms for all the other continuous variables in the data**"
      ]
    },
    {
      "cell_type": "code",
      "metadata": {
        "id": "ALeC6Olp1yoW",
        "colab": {
          "base_uri": "https://localhost:8080/",
          "height": 333
        },
        "outputId": "454e0ac0-2b0d-4526-f309-82b72cac8155"
      },
      "source": [
        "### Write the code here\n",
        "plt.hist(data['reading score'])"
      ],
      "execution_count": 9,
      "outputs": [
        {
          "output_type": "execute_result",
          "data": {
            "text/plain": [
              "(array([  4.,   7.,  22.,  64., 140., 182., 237., 168., 120.,  56.]),\n",
              " array([ 17. ,  25.3,  33.6,  41.9,  50.2,  58.5,  66.8,  75.1,  83.4,\n",
              "         91.7, 100. ]),\n",
              " <a list of 10 Patch objects>)"
            ]
          },
          "metadata": {
            "tags": []
          },
          "execution_count": 9
        },
        {
          "output_type": "display_data",
          "data": {
            "image/png": "[encoded data removed]",
            "text/plain": [
              "<Figure size 432x288 with 1 Axes>"
            ]
          },
          "metadata": {
            "tags": [],
            "needs_background": "light"
          }
        }
      ]
    },
    {
      "cell_type": "code",
      "metadata": {
        "id": "glx9jLJuQyTq",
        "colab": {
          "base_uri": "https://localhost:8080/",
          "height": 316
        },
        "outputId": "d7e2cc7a-9b96-4ef7-f79d-2535eb86cb9b"
      },
      "source": [
        "plt.hist(data['writing score'])"
      ],
      "execution_count": 10,
      "outputs": [
        {
          "output_type": "execute_result",
          "data": {
            "text/plain": [
              "(array([  2.,   6.,  14.,  55., 126., 161., 223., 225., 120.,  68.]),\n",
              " array([ 10.,  19.,  28.,  37.,  46.,  55.,  64.,  73.,  82.,  91., 100.]),\n",
              " <a list of 10 Patch objects>)"
            ]
          },
          "metadata": {
            "tags": []
          },
          "execution_count": 10
        },
        {
          "output_type": "display_data",
          "data": {
            "image/png": "[encoded data removed]",
            "text/plain": [
              "<Figure size 432x288 with 1 Axes>"
            ]
          },
          "metadata": {
            "tags": [],
            "needs_background": "light"
          }
        }
      ]
    },
    {
      "cell_type": "code",
      "metadata": {
        "colab": {
          "base_uri": "https://localhost:8080/",
          "height": 401
        },
        "id": "l8e-DDtR3OuD",
        "outputId": "d03bf637-aab2-44d1-b614-628b111dd2fe"
      },
      "source": [
        "plt.boxplot(data['math score'])"
      ],
      "execution_count": 11,
      "outputs": [
        {
          "output_type": "execute_result",
          "data": {
            "text/plain": [
              "{'boxes': [<matplotlib.lines.Line2D at 0x7ff0d0d5e890>],\n",
              " 'caps': [<matplotlib.lines.Line2D at 0x7ff0d0ce2910>,\n",
              "  <matplotlib.lines.Line2D at 0x7ff0d0ce2e50>],\n",
              " 'fliers': [<matplotlib.lines.Line2D at 0x7ff0d0ce9950>],\n",
              " 'means': [],\n",
              " 'medians': [<matplotlib.lines.Line2D at 0x7ff0d0ce9410>],\n",
              " 'whiskers': [<matplotlib.lines.Line2D at 0x7ff0d0d5ee50>,\n",
              "  <matplotlib.lines.Line2D at 0x7ff0d0ce23d0>]}"
            ]
          },
          "metadata": {
            "tags": []
          },
          "execution_count": 11
        },
        {
          "output_type": "display_data",
          "data": {
            "image/png": "[encoded data removed]",
            "text/plain": [
              "<Figure size 432x288 with 1 Axes>"
            ]
          },
          "metadata": {
            "tags": [],
            "needs_background": "light"
          }
        }
      ]
    },
    {
      "cell_type": "markdown",
      "metadata": {
        "id": "acTcDcWI3Ya3"
      },
      "source": [
        "**Exercise:  write the code for plotting boxplots for all the other continuous variables in the data**"
      ]
    },
    {
      "cell_type": "code",
      "metadata": {
        "id": "nBJmdLX93WcH",
        "colab": {
          "base_uri": "https://localhost:8080/",
          "height": 401
        },
        "outputId": "a6f326c4-3475-4015-ef07-81b5a16bed38"
      },
      "source": [
        "### Write the code here\n",
        "plt.boxplot(data['reading score'])\n"
      ],
      "execution_count": 12,
      "outputs": [
        {
          "output_type": "execute_result",
          "data": {
            "text/plain": [
              "{'boxes': [<matplotlib.lines.Line2D at 0x7ff0d0ccb110>],\n",
              " 'caps': [<matplotlib.lines.Line2D at 0x7ff0d0cd1150>,\n",
              "  <matplotlib.lines.Line2D at 0x7ff0d0cd1690>],\n",
              " 'fliers': [<matplotlib.lines.Line2D at 0x7ff0d0cda190>],\n",
              " 'means': [],\n",
              " 'medians': [<matplotlib.lines.Line2D at 0x7ff0d0cd1c10>],\n",
              " 'whiskers': [<matplotlib.lines.Line2D at 0x7ff0d0ccb690>,\n",
              "  <matplotlib.lines.Line2D at 0x7ff0d0ccbbd0>]}"
            ]
          },
          "metadata": {
            "tags": []
          },
          "execution_count": 12
        },
        {
          "output_type": "display_data",
          "data": {
            "image/png": "[encoded data removed]",
            "text/plain": [
              "<Figure size 432x288 with 1 Axes>"
            ]
          },
          "metadata": {
            "tags": [],
            "needs_background": "light"
          }
        }
      ]
    },
    {
      "cell_type": "code",
      "metadata": {
        "id": "zwWK7oqURQkp",
        "colab": {
          "base_uri": "https://localhost:8080/",
          "height": 401
        },
        "outputId": "f21f7aee-f4a8-4a2e-9113-ea837440f054"
      },
      "source": [
        "plt.boxplot(data['writing score'])"
      ],
      "execution_count": 13,
      "outputs": [
        {
          "output_type": "execute_result",
          "data": {
            "text/plain": [
              "{'boxes': [<matplotlib.lines.Line2D at 0x7ff0d0c3d610>],\n",
              " 'caps': [<matplotlib.lines.Line2D at 0x7ff0d0c44650>,\n",
              "  <matplotlib.lines.Line2D at 0x7ff0d0c44b90>],\n",
              " 'fliers': [<matplotlib.lines.Line2D at 0x7ff0d0c4b690>],\n",
              " 'means': [],\n",
              " 'medians': [<matplotlib.lines.Line2D at 0x7ff0d0c4b150>],\n",
              " 'whiskers': [<matplotlib.lines.Line2D at 0x7ff0d0c3db90>,\n",
              "  <matplotlib.lines.Line2D at 0x7ff0d0c44110>]}"
            ]
          },
          "metadata": {
            "tags": []
          },
          "execution_count": 13
        },
        {
          "output_type": "display_data",
          "data": {
            "image/png": "[encoded data removed]",
            "text/plain": [
              "<Figure size 432x288 with 1 Axes>"
            ]
          },
          "metadata": {
            "tags": [],
            "needs_background": "light"
          }
        }
      ]
    },
    {
      "cell_type": "markdown",
      "metadata": {
        "id": "aWSilLb94FNs"
      },
      "source": [
        "Univariate Analysis - Non Graphical"
      ]
    },
    {
      "cell_type": "markdown",
      "metadata": {
        "id": "LjUiGFE04RKK"
      },
      "source": [
        "Let's Understand the Discrete Variables in the data"
      ]
    },
    {
      "cell_type": "code",
      "metadata": {
        "colab": {
          "base_uri": "https://localhost:8080/"
        },
        "id": "POnYYDs53dVS",
        "outputId": "928e2267-2eef-47e9-e3dc-79130092a087"
      },
      "source": [
        "### The Number of Discrete values in the column \"gender\"\n",
        "print(data[\"gender\"].unique().shape[0])"
      ],
      "execution_count": 14,
      "outputs": [
        {
          "output_type": "stream",
          "text": [
            "2\n"
          ],
          "name": "stdout"
        }
      ]
    },
    {
      "cell_type": "code",
      "metadata": {
        "colab": {
          "base_uri": "https://localhost:8080/"
        },
        "id": "L-VsZMi34odh",
        "outputId": "2a33ffdb-0ad1-4a58-b66d-fc9708a00022"
      },
      "source": [
        "### Now, what are these values \n",
        "\n",
        "\n",
        "data[\"gender\"].unique()"
      ],
      "execution_count": 15,
      "outputs": [
        {
          "output_type": "execute_result",
          "data": {
            "text/plain": [
              "array(['female', 'male'], dtype=object)"
            ]
          },
          "metadata": {
            "tags": []
          },
          "execution_count": 15
        }
      ]
    },
    {
      "cell_type": "code",
      "metadata": {
        "colab": {
          "base_uri": "https://localhost:8080/"
        },
        "id": "dexmxpA0jHAM",
        "outputId": "5c7593fb-4418-42d2-efe3-6a017221ccd8"
      },
      "source": [
        "data['gender'].value_counts()"
      ],
      "execution_count": 16,
      "outputs": [
        {
          "output_type": "execute_result",
          "data": {
            "text/plain": [
              "female    518\n",
              "male      482\n",
              "Name: gender, dtype: int64"
            ]
          },
          "metadata": {
            "tags": []
          },
          "execution_count": 16
        }
      ]
    },
    {
      "cell_type": "markdown",
      "metadata": {
        "id": "xyVkYXFW43a8"
      },
      "source": [
        "**Exercise - Get the distinct values in other discrete columns of data**"
      ]
    },
    {
      "cell_type": "code",
      "metadata": {
        "id": "tcqAyqWY42M9",
        "colab": {
          "base_uri": "https://localhost:8080/"
        },
        "outputId": "a5c020d0-7105-429f-d621-6a6e45be0a9c"
      },
      "source": [
        "### Write your code here\n",
        "\n",
        "print(data['race/ethnicity'].unique().shape[0])\n",
        "print(data['race/ethnicity'].unique())\n",
        "print(data['race/ethnicity'].value_counts())"
      ],
      "execution_count": 23,
      "outputs": [
        {
          "output_type": "stream",
          "text": [
            "5\n",
            "['group B' 'group C' 'group A' 'group D' 'group E']\n",
            "group C    319\n",
            "group D    262\n",
            "group B    190\n",
            "group E    140\n",
            "group A     89\n",
            "Name: race/ethnicity, dtype: int64\n"
          ],
          "name": "stdout"
        }
      ]
    },
    {
      "cell_type": "code",
      "metadata": {
        "colab": {
          "base_uri": "https://localhost:8080/"
        },
        "id": "bM7h8XN_S-BF",
        "outputId": "6f15852e-3397-48a2-e896-e7ee80f41e0b"
      },
      "source": [
        "print(data['parental level of education'].unique().shape[0])\n",
        "print(data['parental level of education'].unique())\n",
        "print(data['parental level of education'].value_counts())"
      ],
      "execution_count": 25,
      "outputs": [
        {
          "output_type": "stream",
          "text": [
            "6\n",
            "[\"bachelor's degree\" 'some college' \"master's degree\" \"associate's degree\"\n",
            " 'high school' 'some high school']\n",
            "some college          226\n",
            "associate's degree    222\n",
            "high school           196\n",
            "some high school      179\n",
            "bachelor's degree     118\n",
            "master's degree        59\n",
            "Name: parental level of education, dtype: int64\n"
          ],
          "name": "stdout"
        }
      ]
    },
    {
      "cell_type": "markdown",
      "metadata": {
        "id": "jrnklM7f5OEW"
      },
      "source": [
        "### **Bivariate Analysis**"
      ]
    },
    {
      "cell_type": "markdown",
      "metadata": {
        "id": "HgOcKyC45TAt"
      },
      "source": [
        "Pearson Correlations  ->  Correlation Coefficient between any two continuous variables can give an idea if one variable can be used to predict another"
      ]
    },
    {
      "cell_type": "code",
      "metadata": {
        "colab": {
          "base_uri": "https://localhost:8080/",
          "height": 282
        },
        "id": "wNBgetVZ-exx",
        "outputId": "2bb629f3-2cf6-4b22-bdd0-481c25791a82"
      },
      "source": [
        "### But before the correlation coefficient values, let's understand the relationship in a graphical manner\n",
        "\n",
        "plt.scatter(x = data['math score'], y = data['reading score'])"
      ],
      "execution_count": null,
      "outputs": [
        {
          "output_type": "execute_result",
          "data": {
            "text/plain": [
              "<matplotlib.collections.PathCollection at 0x7f6c4c7dee10>"
            ]
          },
          "metadata": {
            "tags": []
          },
          "execution_count": 14
        },
        {
          "output_type": "display_data",
          "data": {
            "image/png": "[encoded data removed]",
            "text/plain": [
              "<Figure size 432x288 with 1 Axes>"
            ]
          },
          "metadata": {
            "tags": [],
            "needs_background": "light"
          }
        }
      ]
    },
    {
      "cell_type": "code",
      "metadata": {
        "colab": {
          "base_uri": "https://localhost:8080/"
        },
        "id": "sCNhTmBF5Ncx",
        "outputId": "c372d8ca-ccc7-4972-9ec9-f122e8ca90c3"
      },
      "source": [
        "from scipy.stats import pearsonr\n",
        "corr, _ = pearsonr(data['math score'], data['reading score'])\n",
        "print(corr)"
      ],
      "execution_count": null,
      "outputs": [
        {
          "output_type": "stream",
          "text": [
            "0.8175796636720539\n"
          ],
          "name": "stdout"
        }
      ]
    },
    {
      "cell_type": "markdown",
      "metadata": {
        "id": "oTRY1hkp-0GU"
      },
      "source": [
        "So, the positive correlation value corroborates the scatter plot above and show that increase in math score is also related to the increase in the reading score "
      ]
    },
    {
      "cell_type": "markdown",
      "metadata": {
        "id": "cAmfOpLX_I6Z"
      },
      "source": [
        "**Exercise -  Now do the same scatter plots and pearson correlations amongst all the other combinations of continuous variables in the data**"
      ]
    },
    {
      "cell_type": "code",
      "metadata": {
        "id": "4c_X691DAVs4"
      },
      "source": [
        "### Write your codes here\n",
        "\n"
      ],
      "execution_count": null,
      "outputs": []
    },
    {
      "cell_type": "markdown",
      "metadata": {
        "id": "TPfjNNMjAUeK"
      },
      "source": [
        "Now, pandas can make our lives simpler by calculating all the pearson cofficients for all the combinations of continuous variables with just one line of code. The result is in the form of a matrix also known as called Correlation Matrix"
      ]
    },
    {
      "cell_type": "code",
      "metadata": {
        "colab": {
          "base_uri": "https://localhost:8080/",
          "height": 142
        },
        "id": "sRdCJrvh5Fr_",
        "outputId": "dd04988f-fd1a-441d-8700-697617896c0d"
      },
      "source": [
        "data.corr()"
      ],
      "execution_count": null,
      "outputs": [
        {
          "output_type": "execute_result",
          "data": {
            "text/html": [
              "<div>\n",
              "<style scoped>\n",
              "    .dataframe tbody tr th:only-of-type {\n",
              "        vertical-align: middle;\n",
              "    }\n",
              "\n",
              "    .dataframe tbody tr th {\n",
              "        vertical-align: top;\n",
              "    }\n",
              "\n",
              "    .dataframe thead th {\n",
              "        text-align: right;\n",
              "    }\n",
              "</style>\n",
              "<table border=\"1\" class=\"dataframe\">\n",
              "  <thead>\n",
              "    <tr style=\"text-align: right;\">\n",
              "      <th></th>\n",
              "      <th>math score</th>\n",
              "      <th>reading score</th>\n",
              "      <th>writing score</th>\n",
              "    </tr>\n",
              "  </thead>\n",
              "  <tbody>\n",
              "    <tr>\n",
              "      <th>math score</th>\n",
              "      <td>1.000000</td>\n",
              "      <td>0.817580</td>\n",
              "      <td>0.802642</td>\n",
              "    </tr>\n",
              "    <tr>\n",
              "      <th>reading score</th>\n",
              "      <td>0.817580</td>\n",
              "      <td>1.000000</td>\n",
              "      <td>0.954598</td>\n",
              "    </tr>\n",
              "    <tr>\n",
              "      <th>writing score</th>\n",
              "      <td>0.802642</td>\n",
              "      <td>0.954598</td>\n",
              "      <td>1.000000</td>\n",
              "    </tr>\n",
              "  </tbody>\n",
              "</table>\n",
              "</div>"
            ],
            "text/plain": [
              "               math score  reading score  writing score\n",
              "math score       1.000000       0.817580       0.802642\n",
              "reading score    0.817580       1.000000       0.954598\n",
              "writing score    0.802642       0.954598       1.000000"
            ]
          },
          "metadata": {
            "tags": []
          },
          "execution_count": 15
        }
      ]
    },
    {
      "cell_type": "code",
      "metadata": {
        "id": "foJAjLFtASqs"
      },
      "source": [
        ""
      ],
      "execution_count": null,
      "outputs": []
    }
  ]
}